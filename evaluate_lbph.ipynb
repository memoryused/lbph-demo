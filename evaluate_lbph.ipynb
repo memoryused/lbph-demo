{
 "cells": [
  {
   "cell_type": "markdown",
   "metadata": {},
   "source": [
    "# Evaluate LBPH Face Recognition Model"
   ]
  },
  {
   "cell_type": "code",
   "execution_count": 1,
   "metadata": {},
   "outputs": [],
   "source": [
    "import cv2\n",
    "import os\n",
    "import numpy as np\n",
    "import pickle\n",
    "from sklearn.metrics import accuracy_score, log_loss"
   ]
  },
  {
   "cell_type": "markdown",
   "metadata": {},
   "source": [
    "## Function to Read Images and Labels"
   ]
  },
  {
   "cell_type": "code",
   "execution_count": 2,
   "metadata": {},
   "outputs": [],
   "source": [
    "def read_images_and_labels(dataset_path, img_size=(200, 200)):\n",
    "    images = []\n",
    "    labels = []\n",
    "    label_map = {}\n",
    "    label_counter = 0\n",
    "\n",
    "    for person_name in os.listdir(dataset_path):\n",
    "        person_path = os.path.join(dataset_path, person_name)\n",
    "        if not os.path.isdir(person_path):\n",
    "            continue\n",
    "\n",
    "        for image_name in os.listdir(person_path):\n",
    "            image_path = os.path.join(person_path, image_name)\n",
    "            image = cv2.imread(image_path, cv2.IMREAD_GRAYSCALE)\n",
    "            if image is None:\n",
    "                continue\n",
    "\n",
    "            # Resize the image to ensure all images have the same dimensions\n",
    "            image = cv2.resize(image, img_size)\n",
    "\n",
    "            if person_name not in label_map:\n",
    "                label_map[person_name] = label_counter\n",
    "                label_counter += 1\n",
    "\n",
    "            label = label_map[person_name]\n",
    "            images.append(image)\n",
    "            labels.append(label)\n",
    "\n",
    "    return images, labels, label_map"
   ]
  },
  {
   "cell_type": "markdown",
   "metadata": {},
   "source": [
    "## Load the Recognizer Model and Label Map"
   ]
  },
  {
   "cell_type": "code",
   "execution_count": 3,
   "metadata": {},
   "outputs": [],
   "source": [
    "# Load the trained model\n",
    "recognizer = cv2.face.LBPHFaceRecognizer_create()\n",
    "recognizer.read('lbph_face_recognizer_model.yml')\n",
    "\n",
    "# Load the label map\n",
    "with open('label_map.pkl', 'rb') as f:\n",
    "    label_map = pickle.load(f)\n",
    "\n",
    "# Invert the label map\n",
    "label_map_inv = {v: k for k, v in label_map.items()}"
   ]
  },
  {
   "cell_type": "markdown",
   "metadata": {},
   "source": [
    "## Function to Evaluate the Model"
   ]
  },
  {
   "cell_type": "code",
   "execution_count": 22,
   "metadata": {},
   "outputs": [],
   "source": [
    "def mod_log_loss(y_true, y_pred, labels):\n",
    "\tclass_diff = labels - y_pred[0]\n",
    "\n",
    "\tif(class_diff > 0):\n",
    "\t\ty_pred_pad = np.array([np.pad(x, pad_width=(0,class_diff)) for x in y_pred])\n",
    "\telse:\n",
    "\t\ty_pred_pad = y_pred\n",
    "\n",
    "\treturn(log_loss(y_true, y_pred_pad, labels=labels))\n",
    "\n",
    "def evaluate_model(images, labels, num_classes):\n",
    "    correct_predictions = 0\n",
    "    log_loss_sum = 0\n",
    "    epsilon = 1e-15  # Small value to prevent log(0)\n",
    "    \n",
    "    true_labels = []\n",
    "    pred_labels = []\n",
    "\n",
    "    for i, image in enumerate(images):\n",
    "        label, confidence = recognizer.predict(image)\n",
    "        correct_predictions += (label == labels[i])\n",
    "\n",
    "        true_labels.append(labels[i])\n",
    "        pred_labels.append(label)\n",
    "\n",
    "        # Simulate probability distributions for custom log loss\n",
    "        predicted_prob = np.ones(num_classes) * (1 - confidence) / (num_classes - 1)\n",
    "        predicted_prob[label] = confidence\n",
    "        predicted_prob = np.clip(predicted_prob, epsilon, 1 - epsilon)\n",
    "        predicted_prob /= predicted_prob.sum()\n",
    "\n",
    "        true_prob = np.zeros(num_classes)\n",
    "        true_prob[labels[i]] = 1\n",
    "\n",
    "        log_loss_sum += -np.sum(true_prob * np.log(predicted_prob))\n",
    "\n",
    "    accuracy = accuracy_score(true_labels, pred_labels)\n",
    "    entropy_loss = mod_log_loss(true_labels, pred_labels, labels=range(num_classes))\n",
    "    return accuracy, entropy_loss"
   ]
  },
  {
   "cell_type": "markdown",
   "metadata": {},
   "source": [
    "## Read Validation Dataset"
   ]
  },
  {
   "cell_type": "code",
   "execution_count": 23,
   "metadata": {},
   "outputs": [],
   "source": [
    "# Specify the path to your validation dataset\n",
    "validation_dataset_path = \"dataset2\"\n",
    "\n",
    "# Read validation images and labels\n",
    "val_images, val_labels, _ = read_images_and_labels(validation_dataset_path)"
   ]
  },
  {
   "cell_type": "markdown",
   "metadata": {},
   "source": [
    "## Evaluate the Model"
   ]
  },
  {
   "cell_type": "code",
   "execution_count": 24,
   "metadata": {},
   "outputs": [
    {
     "ename": "TypeError",
     "evalue": "unsupported operand type(s) for -: 'range' and 'int'",
     "output_type": "error",
     "traceback": [
      "\u001b[1;31m---------------------------------------------------------------------------\u001b[0m",
      "\u001b[1;31mTypeError\u001b[0m                                 Traceback (most recent call last)",
      "Cell \u001b[1;32mIn[24], line 5\u001b[0m\n\u001b[0;32m      2\u001b[0m num_classes \u001b[38;5;241m=\u001b[39m \u001b[38;5;28mlen\u001b[39m(label_map)\n\u001b[0;32m      4\u001b[0m \u001b[38;5;66;03m# Evaluate the model\u001b[39;00m\n\u001b[1;32m----> 5\u001b[0m val_accuracy, val_loss \u001b[38;5;241m=\u001b[39m \u001b[43mevaluate_model\u001b[49m\u001b[43m(\u001b[49m\u001b[43mval_images\u001b[49m\u001b[43m,\u001b[49m\u001b[43m \u001b[49m\u001b[43mval_labels\u001b[49m\u001b[43m,\u001b[49m\u001b[43m \u001b[49m\u001b[43mnum_classes\u001b[49m\u001b[43m)\u001b[49m\n\u001b[0;32m      7\u001b[0m \u001b[38;5;66;03m# Print the evaluation results\u001b[39;00m\n\u001b[0;32m      8\u001b[0m \u001b[38;5;28mprint\u001b[39m(\u001b[38;5;124mf\u001b[39m\u001b[38;5;124m\"\u001b[39m\u001b[38;5;124mValidation Accuracy: \u001b[39m\u001b[38;5;132;01m{\u001b[39;00mval_accuracy\u001b[38;5;250m \u001b[39m\u001b[38;5;241m*\u001b[39m\u001b[38;5;250m \u001b[39m\u001b[38;5;241m100\u001b[39m\u001b[38;5;132;01m:\u001b[39;00m\u001b[38;5;124m.2f\u001b[39m\u001b[38;5;132;01m}\u001b[39;00m\u001b[38;5;124m%\u001b[39m\u001b[38;5;124m\"\u001b[39m)\n",
      "Cell \u001b[1;32mIn[22], line 38\u001b[0m, in \u001b[0;36mevaluate_model\u001b[1;34m(images, labels, num_classes)\u001b[0m\n\u001b[0;32m     35\u001b[0m     log_loss_sum \u001b[38;5;241m+\u001b[39m\u001b[38;5;241m=\u001b[39m \u001b[38;5;241m-\u001b[39mnp\u001b[38;5;241m.\u001b[39msum(true_prob \u001b[38;5;241m*\u001b[39m np\u001b[38;5;241m.\u001b[39mlog(predicted_prob))\n\u001b[0;32m     37\u001b[0m accuracy \u001b[38;5;241m=\u001b[39m accuracy_score(true_labels, pred_labels)\n\u001b[1;32m---> 38\u001b[0m entropy_loss \u001b[38;5;241m=\u001b[39m \u001b[43mmod_log_loss\u001b[49m\u001b[43m(\u001b[49m\u001b[43mtrue_labels\u001b[49m\u001b[43m,\u001b[49m\u001b[43m \u001b[49m\u001b[43mpred_labels\u001b[49m\u001b[43m,\u001b[49m\u001b[43m \u001b[49m\u001b[43mlabels\u001b[49m\u001b[38;5;241;43m=\u001b[39;49m\u001b[38;5;28;43mrange\u001b[39;49m\u001b[43m(\u001b[49m\u001b[43mnum_classes\u001b[49m\u001b[43m)\u001b[49m\u001b[43m)\u001b[49m\n\u001b[0;32m     39\u001b[0m \u001b[38;5;28;01mreturn\u001b[39;00m accuracy, entropy_loss\n",
      "Cell \u001b[1;32mIn[22], line 2\u001b[0m, in \u001b[0;36mmod_log_loss\u001b[1;34m(y_true, y_pred, labels)\u001b[0m\n\u001b[0;32m      1\u001b[0m \u001b[38;5;28;01mdef\u001b[39;00m \u001b[38;5;21mmod_log_loss\u001b[39m(y_true, y_pred, labels):\n\u001b[1;32m----> 2\u001b[0m \tclass_diff \u001b[38;5;241m=\u001b[39m \u001b[43mlabels\u001b[49m\u001b[43m \u001b[49m\u001b[38;5;241;43m-\u001b[39;49m\u001b[43m \u001b[49m\u001b[43my_pred\u001b[49m\u001b[43m[\u001b[49m\u001b[38;5;241;43m0\u001b[39;49m\u001b[43m]\u001b[49m\n\u001b[0;32m      4\u001b[0m \t\u001b[38;5;28;01mif\u001b[39;00m(class_diff \u001b[38;5;241m>\u001b[39m \u001b[38;5;241m0\u001b[39m):\n\u001b[0;32m      5\u001b[0m \t\ty_pred_pad \u001b[38;5;241m=\u001b[39m np\u001b[38;5;241m.\u001b[39marray([np\u001b[38;5;241m.\u001b[39mpad(x, pad_width\u001b[38;5;241m=\u001b[39m(\u001b[38;5;241m0\u001b[39m,class_diff)) \u001b[38;5;28;01mfor\u001b[39;00m x \u001b[38;5;129;01min\u001b[39;00m y_pred])\n",
      "\u001b[1;31mTypeError\u001b[0m: unsupported operand type(s) for -: 'range' and 'int'"
     ]
    }
   ],
   "source": [
    "# Get the number of unique classes from the label map\n",
    "num_classes = len(label_map)\n",
    "\n",
    "# Evaluate the model\n",
    "val_accuracy, val_loss = evaluate_model(val_images, val_labels, num_classes)\n",
    "\n",
    "# Print the evaluation results\n",
    "print(f\"Validation Accuracy: {val_accuracy * 100:.2f}%\")\n",
    "print(f\"Validation Loss (Entropy): {val_loss:.4f}\")"
   ]
  }
 ],
 "metadata": {
  "kernelspec": {
   "display_name": "Python 3",
   "language": "python",
   "name": "python3"
  },
  "language_info": {
   "codemirror_mode": {
    "name": "ipython",
    "version": 3
   },
   "file_extension": ".py",
   "mimetype": "text/x-python",
   "name": "python",
   "nbconvert_exporter": "python",
   "pygments_lexer": "ipython3",
   "version": "3.9.19"
  }
 },
 "nbformat": 4,
 "nbformat_minor": 5
}
