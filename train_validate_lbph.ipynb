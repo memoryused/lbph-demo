{
 "cells": [
  {
   "cell_type": "markdown",
   "metadata": {},
   "source": [
    "# Face Recognition using LBPH with Data Augmentation and Parameter Tuning"
   ]
  },
  {
   "cell_type": "code",
   "execution_count": 1,
   "metadata": {},
   "outputs": [],
   "source": [
    "import cv2\n",
    "import os\n",
    "import numpy as np\n",
    "import pickle\n",
    "from sklearn.model_selection import train_test_split\n",
    "from sklearn.metrics import log_loss\n",
    "from sklearn.metrics import classification_report"
   ]
  },
  {
   "cell_type": "markdown",
   "metadata": {},
   "source": [
    "## Function to Read Images and Labels"
   ]
  },
  {
   "cell_type": "code",
   "execution_count": 2,
   "metadata": {},
   "outputs": [],
   "source": [
    "def read_images_and_labels(dataset_path, img_size=(200, 200)):\n",
    "    images = []\n",
    "    labels = []\n",
    "    label_map = {}\n",
    "    label_counter = 0\n",
    "\n",
    "    for person_name in os.listdir(dataset_path):\n",
    "        person_path = os.path.join(dataset_path, person_name)\n",
    "        if not os.path.isdir(person_path):\n",
    "            continue\n",
    "\n",
    "        for image_name in os.listdir(person_path):\n",
    "            image_path = os.path.join(person_path, image_name)\n",
    "            image = cv2.imread(image_path, cv2.IMREAD_GRAYSCALE)\n",
    "            if image is None:\n",
    "                continue\n",
    "\n",
    "            # Resize the image to ensure all images have the same dimensions\n",
    "            image = cv2.resize(image, img_size)\n",
    "\n",
    "            if person_name not in label_map:\n",
    "                label_map[person_name] = label_counter\n",
    "                label_counter += 1\n",
    "\n",
    "            label = label_map[person_name]\n",
    "            images.append(image)\n",
    "            labels.append(label)\n",
    "\n",
    "    return images, labels, label_map"
   ]
  },
  {
   "cell_type": "markdown",
   "metadata": {},
   "source": [
    "## Function to Augment Data"
   ]
  },
  {
   "cell_type": "code",
   "execution_count": 3,
   "metadata": {},
   "outputs": [],
   "source": [
    "def augment_data(images, labels):\n",
    "    augmented_images = []\n",
    "    augmented_labels = []\n",
    "\n",
    "    for image, label in zip(images, labels):\n",
    "        augmented_images.append(image)\n",
    "        augmented_labels.append(label)\n",
    "\n",
    "        # Flip horizontally\n",
    "        flipped_image = cv2.flip(image, 1)\n",
    "        augmented_images.append(flipped_image)\n",
    "        augmented_labels.append(label)\n",
    "\n",
    "        # Rotate\n",
    "        rows, cols = image.shape\n",
    "        M = cv2.getRotationMatrix2D((cols / 2, rows / 2), 15, 1)\n",
    "        rotated_image = cv2.warpAffine(image, M, (cols, rows))\n",
    "        augmented_images.append(rotated_image)\n",
    "        augmented_labels.append(label)\n",
    "\n",
    "        # Scale\n",
    "        scaled_image = cv2.resize(image, (int(cols * 1.2), int(rows * 1.2)))\n",
    "        scaled_image = cv2.resize(scaled_image, (cols, rows))\n",
    "        augmented_images.append(scaled_image)\n",
    "        augmented_labels.append(label)\n",
    "\n",
    "    return augmented_images, augmented_labels"
   ]
  },
  {
   "cell_type": "markdown",
   "metadata": {},
   "source": [
    "## Read Images and Labels"
   ]
  },
  {
   "cell_type": "code",
   "execution_count": 151,
   "metadata": {},
   "outputs": [],
   "source": [
    "# Specify the path to your dataset\n",
    "dataset_path = \"dataset2\"\n",
    "\n",
    "# Read images and labels\n",
    "images, labels, label_map = read_images_and_labels(dataset_path)"
   ]
  },
  {
   "cell_type": "markdown",
   "metadata": {},
   "source": [
    "## Augment Data"
   ]
  },
  {
   "cell_type": "code",
   "execution_count": 161,
   "metadata": {},
   "outputs": [],
   "source": [
    "# Augment data\n",
    "images, labels = augment_data(images, labels)"
   ]
  },
  {
   "cell_type": "markdown",
   "metadata": {},
   "source": [
    "## Convert to Numpy Arrays"
   ]
  },
  {
   "cell_type": "code",
   "execution_count": 162,
   "metadata": {},
   "outputs": [],
   "source": [
    "# Convert to numpy arrays\n",
    "images = np.array(images)\n",
    "labels = np.array(labels)"
   ]
  },
  {
   "cell_type": "markdown",
   "metadata": {},
   "source": [
    "## Split Dataset into Train and Validation Sets"
   ]
  },
  {
   "cell_type": "code",
   "execution_count": 163,
   "metadata": {},
   "outputs": [],
   "source": [
    "# encode the labels\n",
    "le = LabelEncoder()\n",
    "labels = le.fit_transform(labels)\n",
    "\n",
    "# Split the dataset into train and validation sets (70:30)\n",
    "train_images, val_images, train_labels, val_labels = train_test_split(images, labels, test_size=0.3, random_state=42)"
   ]
  },
  {
   "cell_type": "markdown",
   "metadata": {},
   "source": [
    "## Create LBPH Face Recognizer with Tuned Parameters"
   ]
  },
  {
   "cell_type": "code",
   "execution_count": 164,
   "metadata": {},
   "outputs": [],
   "source": [
    "# Create the LBPH face recognizer with tuned parameters\n",
    "recognizer = cv2.face.LBPHFaceRecognizer_create(radius=1, neighbors=8, grid_x=8, grid_y=8)"
   ]
  },
  {
   "cell_type": "markdown",
   "metadata": {},
   "source": [
    "## Function to Calculate Accuracy and Custom Entropy Loss"
   ]
  },
  {
   "cell_type": "code",
   "execution_count": 156,
   "metadata": {},
   "outputs": [],
   "source": [
    "def calculate_metrics(images, labels, num_classes):\n",
    "    correct_predictions = 0\n",
    "    log_loss_sum = 0\n",
    "    epsilon = 1e-15  # Small value to prevent log(0)\n",
    "\n",
    "    for i, image in enumerate(images):\n",
    "        label, confidence = recognizer.predict(image)\n",
    "        correct_predictions += (label == labels[i])\n",
    "\n",
    "        # Simulate probability distributions for custom log loss\n",
    "        predicted_prob = np.ones(num_classes) * (1 - confidence) / (num_classes - 1)\n",
    "        predicted_prob[label] = confidence\n",
    "        predicted_prob = np.clip(predicted_prob, epsilon, 1 - epsilon)\n",
    "        predicted_prob /= predicted_prob.sum()\n",
    "\n",
    "        true_prob = np.zeros(num_classes)\n",
    "        true_prob[labels[i]] = 1\n",
    "\n",
    "        log_loss_sum += -np.sum(true_prob * np.log(predicted_prob))\n",
    "        #print(log_loss_sum)\n",
    "\n",
    "    accuracy = correct_predictions / len(images)\n",
    "    entropy_loss = log_loss_sum / len(images)\n",
    "    return accuracy, entropy_loss"
   ]
  },
  {
   "cell_type": "code",
   "execution_count": 167,
   "id": "c3495898",
   "metadata": {},
   "outputs": [],
   "source": [
    "def calculate_metrics2(images, labels, num_classes):    \n",
    "    print(\"[INFO] gathering predictions...\")\n",
    "    predictions = []\n",
    "    confidences = []\n",
    "\n",
    "    for i, image in enumerate(images):\n",
    "      # classify the face and update the predictions\n",
    "      # and confidence scores\n",
    "      (prediction, confidence) = recognizer.predict(image)\n",
    "      predictions.append(prediction)\n",
    "      confidences.append(confidence)\n",
    "\n",
    "    # show the classification report\n",
    "    print(labels)\n",
    "    print(predictions)\n",
    "    print(classification_report(labels, predictions, target_names=le.classes_))"
   ]
  },
  {
   "cell_type": "markdown",
   "metadata": {},
   "source": [
    "## Custom Training Loop with Logging"
   ]
  },
  {
   "cell_type": "code",
   "execution_count": 168,
   "metadata": {},
   "outputs": [
    {
     "name": "stdout",
     "output_type": "stream",
     "text": [
      "3\n",
      "[INFO] gathering predictions...\n",
      "[0 2 1 2 0 1 2 1 1 1 0 0 2 2 1 1 2 1 0 1 2 1 1 1 1 2 2 1 0 2 2 0 0 0 0 1 0\n",
      " 1 1 0 2 0 2 0 2 1 2 0 0 2 2 2 2 2 1 0 0 1 2 2 2 0 2 0 0 0 2 0 0 0 0 1 0 0\n",
      " 1 1 1 0 1 0 0 1 0 2 2 1 0 1 0 0 0 1 1 1 0 2 1 0 0 2 0 0 1 1 0 2 1 2 0 0 1\n",
      " 0 1 0 1 1 1 2 0 1 1 1 1 2 2 0 0 0 1 2 1 0 1 2 2 1 1 2 0 2 2 1 2 0 0 0 2 0\n",
      " 0 0 0 2 0 0 0 0 1 2 0 1 2 1 1 1 1 1 0 1 1 1 1 1 1 0 0 2 2 2 0 1 0 0 1 1 1\n",
      " 0 0 1 1 1 1 0 1 0 0 2 2 2 2 1 2 1 0 0 1 1 0 0 1 2 1 2 2 2 1 0 0 0 2 0 2 0\n",
      " 0 2 1 0 0 2 2 0 1 1 2 0 2 0 1 0 1 0 2 1 0 0 2 1 0 0 0 1 0 2 1 1 1 0 0 1 2\n",
      " 0 2 2 0 0 0 0 0 2 2 2 2 0 1 1 0 0 1 2 0 0 2 2 0 0 2 0 1 1 2 0 0 2 2 2 1 1\n",
      " 2 0 0 0 2 1 2 2 0 0 2 1 2 0 0 0 0 2 2 0 0 1 1 0 0 2 2 2 2 1 1 2 0 2 0 2 0\n",
      " 0 1 0 2 2 1 1 1 0 2 2 0 0 2 1 2 0 0 0 2 0 1 2 2 2 2 0 2 2 1 2 2 1 2 0 2 0\n",
      " 2 2 2 0 0 2 0 1 1 2 1 2 1 0 0 0 1 2 0 1 2 2 0 2 0 1 1 0 0 2 1 1 2 2 0 1 0\n",
      " 1 0 2 1 2 1 2 1 2 0 0 2 2 2 1 0 1 0 0 0 2 1 0 2 0 1 0 0 1 0 0 0 1 0 1 2 2\n",
      " 2 2 2 0 1 1 2 2 2 2 0 1 2 2 2 2 1 2 2 1 2 1 0 2 1 1 0 1 0 2 1 1 0 2 2 0 2\n",
      " 1 0 1 1 2 2 0 0 2 1 1 0 0 1 0 2 2 1 0 1 1 2 2 2 2 1 2 2 1 2 1 2 1 2 0 0 1\n",
      " 0 1 0 1 0 1 2 2 2 2 2 0 1 0 2 1 1 1 1 2 0 1 2 1 2 2 0 0 2 1 2 1 2 1 2 1 0\n",
      " 2 2 1 1 1 0 0 2 2 0 0 0 2 0 1 2 0 0 1 1 1 1 1 0 0 1 1 0 2 1 2 2 0 2 0 0 0\n",
      " 1 0 0 2 0 2 0 2 0 2 2 2 0 1 0 2 1 1 2 2 2 0 0 0 1 2 1 1 1 2 2 0 1 1 0 2 2\n",
      " 1 2 0 0 0 2 2 1 1 1 0 0 0 2 1 0 2 0 0 0 1 1 0 0 2 2 1 2 1 2 1 2 0 1 2 1 2\n",
      " 1 2 0 2 2 1 1 1 1 0 1 1 2 2 0 0 0 1 0 0 2 0 1 2 1 1 0 2 0 1 0 1 2 0 0 0 1\n",
      " 0 0 1 0 1 0 1 0 0 0 2 1 0]\n",
      "[0, 2, 1, 2, 0, 1, 2, 1, 1, 1, 0, 0, 2, 2, 1, 1, 2, 1, 0, 1, 2, 1, 1, 1, 1, 2, 2, 1, 0, 2, 2, 0, 0, 0, 0, 1, 0, 1, 1, 0, 2, 0, 2, 0, 2, 1, 2, 0, 0, 2, 2, 2, 2, 2, 1, 0, 0, 1, 2, 2, 2, 0, 2, 0, 0, 0, 2, 0, 0, 0, 0, 1, 0, 0, 1, 1, 1, 0, 1, 0, 0, 1, 0, 2, 2, 1, 0, 1, 0, 0, 0, 1, 1, 1, 0, 2, 1, 0, 0, 2, 0, 0, 1, 1, 0, 2, 1, 2, 0, 0, 1, 0, 1, 0, 1, 1, 1, 2, 0, 1, 1, 1, 1, 2, 2, 0, 0, 0, 1, 2, 1, 0, 1, 2, 2, 1, 1, 2, 0, 2, 2, 1, 2, 0, 0, 0, 2, 0, 0, 0, 0, 2, 0, 0, 0, 0, 1, 2, 0, 1, 2, 1, 1, 1, 1, 1, 0, 1, 1, 1, 1, 1, 1, 0, 0, 2, 2, 2, 0, 1, 0, 0, 1, 1, 1, 0, 0, 1, 1, 1, 1, 0, 1, 0, 0, 2, 2, 2, 2, 1, 2, 1, 0, 0, 1, 1, 0, 0, 1, 2, 1, 2, 2, 2, 1, 0, 0, 0, 2, 0, 2, 0, 0, 2, 1, 0, 0, 2, 2, 0, 1, 1, 2, 0, 2, 0, 1, 0, 1, 0, 2, 1, 0, 0, 2, 1, 0, 0, 0, 1, 0, 2, 1, 1, 1, 0, 0, 1, 2, 0, 2, 2, 0, 0, 0, 0, 0, 2, 2, 2, 2, 0, 1, 1, 0, 0, 1, 2, 0, 0, 2, 2, 0, 0, 2, 0, 1, 1, 2, 0, 0, 2, 2, 2, 1, 1, 2, 0, 0, 0, 2, 1, 2, 2, 0, 0, 2, 1, 2, 0, 0, 0, 0, 2, 2, 0, 0, 1, 1, 0, 0, 2, 2, 2, 2, 1, 1, 2, 0, 2, 0, 2, 0, 0, 1, 0, 2, 2, 1, 1, 1, 0, 2, 2, 0, 0, 2, 1, 2, 0, 0, 0, 2, 0, 1, 2, 2, 2, 2, 0, 2, 2, 1, 2, 2, 1, 2, 0, 2, 0, 2, 2, 2, 0, 0, 2, 0, 1, 1, 2, 1, 2, 1, 0, 0, 0, 1, 2, 0, 1, 2, 2, 0, 2, 0, 1, 1, 0, 0, 2, 1, 1, 2, 2, 0, 1, 0, 1, 0, 2, 1, 2, 1, 2, 1, 2, 0, 0, 2, 2, 2, 1, 0, 1, 0, 0, 0, 2, 1, 0, 2, 0, 1, 0, 0, 1, 0, 0, 0, 1, 0, 1, 2, 2, 2, 2, 2, 0, 1, 1, 2, 2, 2, 2, 0, 1, 2, 2, 2, 2, 1, 2, 2, 1, 2, 1, 0, 2, 1, 1, 0, 1, 0, 2, 1, 1, 0, 2, 2, 0, 2, 1, 0, 1, 1, 2, 2, 0, 0, 2, 1, 1, 0, 0, 1, 0, 2, 2, 1, 0, 1, 1, 2, 2, 2, 2, 1, 2, 2, 1, 2, 1, 2, 1, 2, 0, 0, 1, 0, 1, 0, 1, 0, 1, 2, 2, 2, 2, 2, 0, 1, 0, 2, 1, 1, 1, 1, 2, 0, 1, 2, 1, 2, 2, 0, 0, 2, 1, 2, 1, 2, 1, 2, 1, 0, 2, 2, 1, 1, 1, 0, 0, 2, 2, 0, 0, 0, 2, 0, 1, 2, 0, 0, 1, 1, 1, 1, 1, 0, 0, 1, 1, 0, 2, 1, 2, 2, 0, 2, 0, 0, 0, 1, 0, 0, 2, 0, 2, 0, 2, 0, 2, 2, 2, 0, 1, 0, 2, 1, 1, 2, 2, 2, 0, 0, 0, 1, 2, 1, 1, 1, 2, 2, 0, 1, 1, 0, 2, 2, 1, 2, 0, 0, 0, 2, 2, 1, 1, 1, 0, 0, 0, 2, 1, 0, 2, 0, 0, 0, 1, 1, 0, 0, 2, 2, 1, 2, 1, 2, 1, 2, 0, 1, 2, 1, 2, 1, 2, 0, 2, 2, 1, 1, 1, 1, 0, 1, 1, 2, 2, 0, 0, 0, 1, 0, 0, 2, 0, 1, 2, 1, 1, 0, 2, 0, 1, 0, 1, 2, 0, 0, 0, 1, 0, 0, 1, 0, 1, 0, 1, 0, 0, 0, 2, 1, 0]\n"
     ]
    },
    {
     "ename": "TypeError",
     "evalue": "object of type 'numpy.int64' has no len()",
     "output_type": "error",
     "traceback": [
      "\u001b[1;31m---------------------------------------------------------------------------\u001b[0m",
      "\u001b[1;31mTypeError\u001b[0m                                 Traceback (most recent call last)",
      "Cell \u001b[1;32mIn[168], line 8\u001b[0m\n\u001b[0;32m      5\u001b[0m \u001b[38;5;28;01mfor\u001b[39;00m epoch \u001b[38;5;129;01min\u001b[39;00m \u001b[38;5;28mrange\u001b[39m(num_epochs):\n\u001b[0;32m      6\u001b[0m     recognizer\u001b[38;5;241m.\u001b[39mtrain(train_images, train_labels)\n\u001b[1;32m----> 8\u001b[0m     \u001b[43mcalculate_metrics2\u001b[49m\u001b[43m(\u001b[49m\u001b[43mtrain_images\u001b[49m\u001b[43m,\u001b[49m\u001b[43m \u001b[49m\u001b[43mtrain_labels\u001b[49m\u001b[43m,\u001b[49m\u001b[43m \u001b[49m\u001b[43mnum_classes\u001b[49m\u001b[43m)\u001b[49m\n\u001b[0;32m      9\u001b[0m     calculate_metrics2(val_images, val_labels, num_classes)\n\u001b[0;32m     11\u001b[0m     \u001b[38;5;66;03m#train_accuracy, train_loss = calculate_metrics2(train_images, train_labels, num_classes)\u001b[39;00m\n\u001b[0;32m     12\u001b[0m     \u001b[38;5;66;03m#val_accuracy, val_loss = calculate_metrics2(val_images, val_labels, num_classes)\u001b[39;00m\n\u001b[0;32m     13\u001b[0m     \n\u001b[1;32m   (...)\u001b[0m\n\u001b[0;32m     18\u001b[0m     \u001b[38;5;66;03m#print(f\"Validation Loss (Entropy): {val_loss:.4f}\")\u001b[39;00m\n\u001b[0;32m     19\u001b[0m     \u001b[38;5;66;03m#print(\"-\")\u001b[39;00m\n",
      "Cell \u001b[1;32mIn[167], line 16\u001b[0m, in \u001b[0;36mcalculate_metrics2\u001b[1;34m(images, labels, num_classes)\u001b[0m\n\u001b[0;32m     14\u001b[0m \u001b[38;5;28mprint\u001b[39m(labels)\n\u001b[0;32m     15\u001b[0m \u001b[38;5;28mprint\u001b[39m(predictions)\n\u001b[1;32m---> 16\u001b[0m \u001b[38;5;28mprint\u001b[39m(\u001b[43mclassification_report\u001b[49m\u001b[43m(\u001b[49m\u001b[43mlabels\u001b[49m\u001b[43m,\u001b[49m\u001b[43m \u001b[49m\u001b[43mpredictions\u001b[49m\u001b[43m,\u001b[49m\u001b[43m \u001b[49m\u001b[43mtarget_names\u001b[49m\u001b[38;5;241;43m=\u001b[39;49m\u001b[43mle\u001b[49m\u001b[38;5;241;43m.\u001b[39;49m\u001b[43mclasses_\u001b[49m\u001b[43m)\u001b[49m)\n",
      "File \u001b[1;32md:\\softwareInstall\\anaconda3\\envs\\face_recognition\\lib\\site-packages\\sklearn\\utils\\_param_validation.py:213\u001b[0m, in \u001b[0;36mvalidate_params.<locals>.decorator.<locals>.wrapper\u001b[1;34m(*args, **kwargs)\u001b[0m\n\u001b[0;32m    207\u001b[0m \u001b[38;5;28;01mtry\u001b[39;00m:\n\u001b[0;32m    208\u001b[0m     \u001b[38;5;28;01mwith\u001b[39;00m config_context(\n\u001b[0;32m    209\u001b[0m         skip_parameter_validation\u001b[38;5;241m=\u001b[39m(\n\u001b[0;32m    210\u001b[0m             prefer_skip_nested_validation \u001b[38;5;129;01mor\u001b[39;00m global_skip_validation\n\u001b[0;32m    211\u001b[0m         )\n\u001b[0;32m    212\u001b[0m     ):\n\u001b[1;32m--> 213\u001b[0m         \u001b[38;5;28;01mreturn\u001b[39;00m func(\u001b[38;5;241m*\u001b[39margs, \u001b[38;5;241m*\u001b[39m\u001b[38;5;241m*\u001b[39mkwargs)\n\u001b[0;32m    214\u001b[0m \u001b[38;5;28;01mexcept\u001b[39;00m InvalidParameterError \u001b[38;5;28;01mas\u001b[39;00m e:\n\u001b[0;32m    215\u001b[0m     \u001b[38;5;66;03m# When the function is just a wrapper around an estimator, we allow\u001b[39;00m\n\u001b[0;32m    216\u001b[0m     \u001b[38;5;66;03m# the function to delegate validation to the estimator, but we replace\u001b[39;00m\n\u001b[0;32m    217\u001b[0m     \u001b[38;5;66;03m# the name of the estimator by the name of the function in the error\u001b[39;00m\n\u001b[0;32m    218\u001b[0m     \u001b[38;5;66;03m# message to avoid confusion.\u001b[39;00m\n\u001b[0;32m    219\u001b[0m     msg \u001b[38;5;241m=\u001b[39m re\u001b[38;5;241m.\u001b[39msub(\n\u001b[0;32m    220\u001b[0m         \u001b[38;5;124mr\u001b[39m\u001b[38;5;124m\"\u001b[39m\u001b[38;5;124mparameter of \u001b[39m\u001b[38;5;124m\\\u001b[39m\u001b[38;5;124mw+ must be\u001b[39m\u001b[38;5;124m\"\u001b[39m,\n\u001b[0;32m    221\u001b[0m         \u001b[38;5;124mf\u001b[39m\u001b[38;5;124m\"\u001b[39m\u001b[38;5;124mparameter of \u001b[39m\u001b[38;5;132;01m{\u001b[39;00mfunc\u001b[38;5;241m.\u001b[39m\u001b[38;5;18m__qualname__\u001b[39m\u001b[38;5;132;01m}\u001b[39;00m\u001b[38;5;124m must be\u001b[39m\u001b[38;5;124m\"\u001b[39m,\n\u001b[0;32m    222\u001b[0m         \u001b[38;5;28mstr\u001b[39m(e),\n\u001b[0;32m    223\u001b[0m     )\n",
      "File \u001b[1;32md:\\softwareInstall\\anaconda3\\envs\\face_recognition\\lib\\site-packages\\sklearn\\metrics\\_classification.py:2679\u001b[0m, in \u001b[0;36mclassification_report\u001b[1;34m(y_true, y_pred, labels, target_names, sample_weight, digits, output_dict, zero_division)\u001b[0m\n\u001b[0;32m   2677\u001b[0m \u001b[38;5;28;01melse\u001b[39;00m:\n\u001b[0;32m   2678\u001b[0m     longest_last_line_heading \u001b[38;5;241m=\u001b[39m \u001b[38;5;124m\"\u001b[39m\u001b[38;5;124mweighted avg\u001b[39m\u001b[38;5;124m\"\u001b[39m\n\u001b[1;32m-> 2679\u001b[0m     name_width \u001b[38;5;241m=\u001b[39m \u001b[38;5;28;43mmax\u001b[39;49m\u001b[43m(\u001b[49m\u001b[38;5;28;43mlen\u001b[39;49m\u001b[43m(\u001b[49m\u001b[43mcn\u001b[49m\u001b[43m)\u001b[49m\u001b[43m \u001b[49m\u001b[38;5;28;43;01mfor\u001b[39;49;00m\u001b[43m \u001b[49m\u001b[43mcn\u001b[49m\u001b[43m \u001b[49m\u001b[38;5;129;43;01min\u001b[39;49;00m\u001b[43m \u001b[49m\u001b[43mtarget_names\u001b[49m\u001b[43m)\u001b[49m\n\u001b[0;32m   2680\u001b[0m     width \u001b[38;5;241m=\u001b[39m \u001b[38;5;28mmax\u001b[39m(name_width, \u001b[38;5;28mlen\u001b[39m(longest_last_line_heading), digits)\n\u001b[0;32m   2681\u001b[0m     head_fmt \u001b[38;5;241m=\u001b[39m \u001b[38;5;124m\"\u001b[39m\u001b[38;5;124m{\u001b[39m\u001b[38;5;124m:>\u001b[39m\u001b[38;5;132;01m{width}\u001b[39;00m\u001b[38;5;124ms} \u001b[39m\u001b[38;5;124m\"\u001b[39m \u001b[38;5;241m+\u001b[39m \u001b[38;5;124m\"\u001b[39m\u001b[38;5;124m \u001b[39m\u001b[38;5;132;01m{:>9}\u001b[39;00m\u001b[38;5;124m\"\u001b[39m \u001b[38;5;241m*\u001b[39m \u001b[38;5;28mlen\u001b[39m(headers)\n",
      "File \u001b[1;32md:\\softwareInstall\\anaconda3\\envs\\face_recognition\\lib\\site-packages\\sklearn\\metrics\\_classification.py:2679\u001b[0m, in \u001b[0;36m<genexpr>\u001b[1;34m(.0)\u001b[0m\n\u001b[0;32m   2677\u001b[0m \u001b[38;5;28;01melse\u001b[39;00m:\n\u001b[0;32m   2678\u001b[0m     longest_last_line_heading \u001b[38;5;241m=\u001b[39m \u001b[38;5;124m\"\u001b[39m\u001b[38;5;124mweighted avg\u001b[39m\u001b[38;5;124m\"\u001b[39m\n\u001b[1;32m-> 2679\u001b[0m     name_width \u001b[38;5;241m=\u001b[39m \u001b[38;5;28mmax\u001b[39m(\u001b[38;5;28;43mlen\u001b[39;49m\u001b[43m(\u001b[49m\u001b[43mcn\u001b[49m\u001b[43m)\u001b[49m \u001b[38;5;28;01mfor\u001b[39;00m cn \u001b[38;5;129;01min\u001b[39;00m target_names)\n\u001b[0;32m   2680\u001b[0m     width \u001b[38;5;241m=\u001b[39m \u001b[38;5;28mmax\u001b[39m(name_width, \u001b[38;5;28mlen\u001b[39m(longest_last_line_heading), digits)\n\u001b[0;32m   2681\u001b[0m     head_fmt \u001b[38;5;241m=\u001b[39m \u001b[38;5;124m\"\u001b[39m\u001b[38;5;124m{\u001b[39m\u001b[38;5;124m:>\u001b[39m\u001b[38;5;132;01m{width}\u001b[39;00m\u001b[38;5;124ms} \u001b[39m\u001b[38;5;124m\"\u001b[39m \u001b[38;5;241m+\u001b[39m \u001b[38;5;124m\"\u001b[39m\u001b[38;5;124m \u001b[39m\u001b[38;5;132;01m{:>9}\u001b[39;00m\u001b[38;5;124m\"\u001b[39m \u001b[38;5;241m*\u001b[39m \u001b[38;5;28mlen\u001b[39m(headers)\n",
      "\u001b[1;31mTypeError\u001b[0m: object of type 'numpy.int64' has no len()"
     ]
    }
   ],
   "source": [
    "# Custom training loop with logging\n",
    "num_epochs = 1  # Define the number of epochs\n",
    "num_classes = len(np.unique(labels))  # Get the number of unique classes\n",
    "print(num_classes)\n",
    "for epoch in range(num_epochs):\n",
    "    recognizer.train(train_images, train_labels)\n",
    "    \n",
    "    calculate_metrics2(train_images, train_labels, num_classes)\n",
    "    calculate_metrics2(val_images, val_labels, num_classes)\n",
    "\n",
    "    #train_accuracy, train_loss = calculate_metrics2(train_images, train_labels, num_classes)\n",
    "    #val_accuracy, val_loss = calculate_metrics2(val_images, val_labels, num_classes)\n",
    "    \n",
    "    #print(f\"Epoch {epoch + 1}/{num_epochs}\")\n",
    "    #print(f\"Training Accuracy: {train_accuracy * 100:.2f}%\")\n",
    "    #print(f\"Validation Accuracy: {val_accuracy * 100:.2f}%\")\n",
    "    #print(f\"Training Loss (Entropy): {train_loss:.4f}\")\n",
    "    #print(f\"Validation Loss (Entropy): {val_loss:.4f}\")\n",
    "    #print(\"-\")\n"
   ]
  },
  {
   "cell_type": "markdown",
   "metadata": {},
   "source": [
    "## Save the Recognizer Model and Label Map"
   ]
  },
  {
   "cell_type": "code",
   "execution_count": 41,
   "metadata": {},
   "outputs": [],
   "source": [
    "# Save the trained model\n",
    "recognizer.save('lbph_face_recognizer_model.yml')\n",
    "\n",
    "# Save the label map\n",
    "with open('label_map.pkl', 'wb') as f:\n",
    "    pickle.dump(label_map, f)"
   ]
  },
  {
   "cell_type": "markdown",
   "id": "59ff7922",
   "metadata": {},
   "source": [
    "Custom"
   ]
  },
  {
   "cell_type": "code",
   "execution_count": null,
   "id": "84f1b4ea",
   "metadata": {},
   "outputs": [],
   "source": [
    "!pip install dlib-19.22.99-cp39-cp39-win_amd64.whl"
   ]
  },
  {
   "cell_type": "code",
   "execution_count": null,
   "id": "5321a303",
   "metadata": {},
   "outputs": [],
   "source": [
    "!pip install scipy\n",
    "!pip install imutils\n",
    "!pip install numpy\n"
   ]
  },
  {
   "cell_type": "code",
   "execution_count": null,
   "id": "b65ecceb",
   "metadata": {},
   "outputs": [],
   "source": [
    "!pip install numpy\n",
    "!pip install matplotlib"
   ]
  },
  {
   "cell_type": "code",
   "execution_count": 16,
   "id": "b049506c",
   "metadata": {},
   "outputs": [],
   "source": [
    "from sklearn.metrics import f1_score\n",
    "from sklearn.preprocessing import LabelEncoder\n",
    "from sklearn.model_selection import train_test_split\n",
    "from sklearn.metrics import classification_report\n",
    "from imutils import paths\n",
    "from collections import Counter\n",
    "import matplotlib.pyplot as plt\n",
    "import scipy.stats as stats\n",
    "import numpy as np\n",
    "import math\n",
    "import imutils\n",
    "import time\n",
    "import cv2\n",
    "import os"
   ]
  },
  {
   "cell_type": "code",
   "execution_count": 18,
   "id": "84a16017",
   "metadata": {},
   "outputs": [],
   "source": [
    "def face_detection(image):\n",
    "  cascadePath = \"haarcascade_frontalface_default.xml\"\n",
    "  detector = cv2.CascadeClassifier(cascadePath)\n",
    "\n",
    "  gray = cv2.cvtColor(image, cv2.COLOR_BGR2GRAY)\n",
    "  rects = detector.detectMultiScale(gray, scaleFactor=1.05,\n",
    "\tminNeighbors=10, minSize=(30, 30),\n",
    "\tflags=cv2.CASCADE_SCALE_IMAGE)\n",
    "\n",
    "  return rects"
   ]
  },
  {
   "cell_type": "code",
   "execution_count": 29,
   "id": "ca3890d2",
   "metadata": {},
   "outputs": [],
   "source": [
    "def load_face_dataset(inputPath, minSamples = 15):\n",
    "  # get all the image paths in the dataset folder structure and grab \n",
    "  # the name(i.e. groundtruth) of all the images and count each of them\n",
    "  # and then put all of the groundtruths into a list\n",
    "  imagePaths = list(paths.list_images(inputPath))\n",
    "  names = [p.split(os.path.sep)[-2] for p in imagePaths]\n",
    "  (names , counts) = np.unique(names , return_counts = True)\n",
    "  names = names.tolist()\n",
    "\n",
    "  faces = []\n",
    "  labels = []\n",
    "  bad = []\n",
    "\n",
    "  # loop over all of the image paths\n",
    "  for imagePath in imagePaths:\n",
    "    # read the image and grab the image label\n",
    "    image = cv2.imread(imagePath)\n",
    "    name = imagePath.split(os.path.sep)[-2]\n",
    "    # print('load_face_dataset img : '+ name)\n",
    "    # check whether the count of this specific label is\n",
    "    # below our minSamples threshold or not\n",
    "    # if counts[names.index(name)] < minSamples:\n",
    "    #  continue\n",
    "    \n",
    "    # perform face detection\n",
    "    boxes = face_detection(image)\n",
    "    \n",
    "    if not np.any(boxes):\n",
    "      bad.append(name)\n",
    "\n",
    "    # loop over the bounding boxes\n",
    "    for (x , y , w , h) in boxes:\n",
    "      try:\n",
    "        # extract the face ROI, resize it and convert\n",
    "        # it into grayscale format\n",
    "        faceROI = image[y:y+h , x:x+w]\n",
    "        faceROI = cv2.resize(faceROI , (47 , 62))\n",
    "        faceROI = cv2.cvtColor(faceROI , cv2.COLOR_BGR2GRAY)\n",
    "\n",
    "        # update the faces and labels list\n",
    "        faces.append(faceROI)\n",
    "        labels.append(name)\n",
    "      except:\n",
    "        bad.append(name)\n",
    "        continue\n",
    "  # convert the faces and labels lists into Numpy array\n",
    "  faces = np.array(faces)\n",
    "  labels = np.array(labels)\n",
    "\n",
    "  print('bad detect is ' )\n",
    "  print(bad)\n",
    "  return (faces , labels)"
   ]
  },
  {
   "cell_type": "code",
   "execution_count": null,
   "id": "948a2aa3",
   "metadata": {},
   "outputs": [],
   "source": [
    "#TEST\n",
    "imagePaths = list(paths.list_images('data_db2'))\n",
    "names = [p.split(os.path.sep)[-2] for p in imagePaths]\n",
    "(names , counts) = np.unique(names , return_counts = True)\n",
    "names = names.tolist()\n",
    "print(names)\n",
    "\n",
    "# loop over all of the image paths\n",
    "for imagePath in imagePaths:\n",
    "    name = imagePath.split(os.path.sep)[-2]\n",
    "    print(name)"
   ]
  },
  {
   "cell_type": "code",
   "execution_count": null,
   "id": "ef8da1f9",
   "metadata": {},
   "outputs": [],
   "source": [
    "!pip install seaborn"
   ]
  },
  {
   "cell_type": "code",
   "execution_count": 36,
   "id": "a0634482",
   "metadata": {},
   "outputs": [],
   "source": [
    "# confusion_matrix\n",
    "from sklearn.metrics import confusion_matrix\n",
    "from collections import Counter\n",
    "import seaborn as sns\n",
    "\n",
    "sns.set()\n",
    "\n",
    "def cus_confusion_matrix(faces, y_test, y_predicted):\n",
    "    #print(faces)\n",
    "    print(y_test)\n",
    "    print(y_predicted)\n",
    "    \n",
    "    # Step 1: Count the occurrences of each class in y_test\n",
    "    class_counts = Counter(y_test)\n",
    "\n",
    "    # Step 2: Sort the classes based on their counts in descending order and select the top 10\n",
    "    top_10_classes = [class_label for class_label, _ in class_counts.most_common(10)]\n",
    "\n",
    "    # For lowest counts, sort and select the bottom 10 classes\n",
    "    #top_10_classes = [class_label for class_label, _ in class_counts.most_common()[-10:]]\n",
    "\n",
    "    # Step 3: Map the selected classes to their corresponding labels\n",
    "    top_10_labels = [labels[i] for i in top_10_classes]\n",
    "\n",
    "    # Step 4: Filter y_test and y_pred based on the top 10 classes\n",
    "    y_test_filtered = []\n",
    "    y_pred_filtered = []\n",
    "\n",
    "    for actual, predicted in zip(y_test, y_predicted):\n",
    "        if actual in top_10_classes and predicted in top_10_classes:\n",
    "            y_test_filtered.append(actual)\n",
    "            y_pred_filtered.append(predicted)\n",
    "\n",
    "    # Step 5: Calculate the confusion matrix with the filtered data\n",
    "    cm = confusion_matrix(y_test_filtered, y_pred_filtered, labels=top_10_classes)\n",
    "\n",
    "    # Plot the confusion matrix with correct labels\n",
    "    sns.heatmap(cm, annot=True, fmt='g', xticklabels=top_10_labels, yticklabels=top_10_labels)\n",
    "    plt.ylabel('Prediction', fontsize=13)\n",
    "    plt.xlabel('Actual', fontsize=13)\n",
    "    plt.title('Confusion Matrix', fontsize=17)\n",
    "    plt.show()"
   ]
  },
  {
   "cell_type": "code",
   "execution_count": 38,
   "id": "014ed3e0",
   "metadata": {},
   "outputs": [],
   "source": [
    "def cross_validation(input_data , cv = 5 , test_size = 0.30 , output = True , save_model=False):\n",
    "  epoch = 0\n",
    "  # initialize the f1-scores list\n",
    "  f1_scores = []\n",
    "  # grab some random numbers between 0 and 100\n",
    "  #random_states = np.random.randint(low = 0, high = 100 , size = cv , dtype = int)\n",
    "\n",
    "  # Fixed\n",
    "  random_states = [42]\n",
    "  #print(random_states)\n",
    "\n",
    "  # extract faces and label from dataset\n",
    "  print('load_face_dataset')\n",
    "  (faces , labels) = load_face_dataset(input_data)\n",
    "  \n",
    "  # encode the labels\n",
    "  le = LabelEncoder()\n",
    "  labels = le.fit_transform(labels)\n",
    "\n",
    "  # Count the number of instances per class\n",
    "  label_counts = Counter(labels)\n",
    "  print(random_states)\n",
    "  print(labels)\n",
    "  print(label_counts.values())\n",
    "  \n",
    "  # do the training process based on the number of \n",
    "  # random_states\n",
    "  for random_state in random_states:\n",
    "    # split the data into training and test set\n",
    "    X_train , X_test , y_train , y_test = train_test_split(faces , labels , test_size = test_size,\n",
    "                                                          stratify = labels , random_state = random_state)\n",
    "    \n",
    "    # define and train the LBP model\n",
    "    print(\"[INFO] training face recognizer...\")\n",
    "    recognizer = cv2.face.LBPHFaceRecognizer_create(\n",
    "        radius = 2 , neighbors = 16 , grid_x = 9 , grid_y  = 9)\n",
    "\n",
    "    start = time.time()\n",
    "    recognizer.train(X_train , y_train)\n",
    "    end = time.time()\n",
    "    print(\"[INFO] training took {:.4f} seconds\".format(end - start))\n",
    "\n",
    "    # initialize our predictions and confidence lists\n",
    "    print(\"[INFO] gathering predictions...\")\n",
    "    predictions = []\n",
    "    confidences = []\n",
    "\n",
    "    # loop over the test data\n",
    "    for i in range(0 , len(X_test)):\n",
    "      # classify the face and update the predictions\n",
    "      # and confidence scores\n",
    "      (prediction, confidence) = recognizer.predict(X_test[i])\n",
    "      predictions.append(prediction)\n",
    "      confidences.append(confidence)\n",
    "\n",
    "    # measure how long making predictions took\n",
    "    end = time.time()\n",
    "    print(\"[INFO] inference took {:.4f} seconds\".format(end - start))\n",
    "    # print(confidences)\n",
    "    # show the classification report\n",
    "    print(classification_report(y_test, predictions, target_names=le.classes_))\n",
    "\n",
    "    # collect and append the calculated f1-score based on this\n",
    "    # random state\n",
    "    f1_scores.append(f1_score(y_test,predictions,average=\"macro\"))\n",
    "\n",
    "    cus_confusion_matrix(faces, y_test, predictions)\n",
    "\n",
    "  # convert the f1-scores list into Numpy array\n",
    "  f1_scores = np.array(f1_scores , dtype=\"float32\")\n",
    "\n",
    "  print(\"[INFO] generate a sample of testing data\")\n",
    "  if output:\n",
    "    # generate a sample of testing data\n",
    "    idxs = np.random.choice(range(0 , len(X_test)) , size = 10 , replace = False)\n",
    "\n",
    "    for i in idxs:\n",
    "      # grab the actual and predicted name\n",
    "      predName = le.inverse_transform([predictions[i]])[0]\n",
    "      actualName = le.classes_[y_test[i]]\n",
    "\n",
    "      # grab the face image, convert back it from 1 channel\n",
    "      # into 3 channels and then resize it\n",
    "      face = np.dstack([X_test[i]] * 3)\n",
    "      face = imutils.resize(face , width = 250)\n",
    "\n",
    "      # draw the actual and predicted name on the image\n",
    "      cv2.putText(face , \"actual : {}\".format(actualName) , (5 , 25),\n",
    "                  cv2.FONT_HERSHEY_SIMPLEX , 0.8 , (0 , 0 , 255) , 2)\n",
    "      cv2.putText(face , \"prediction : {}\".format(predName) , (5 , 60),\n",
    "                  cv2.FONT_HERSHEY_SIMPLEX , 0.8 , (0 , 255 , 0) , 2)\n",
    "      \n",
    "      # display the result image and the save it into\n",
    "      # the desired directory \n",
    "      plt.imshow(face , cmap=\"gray\")\n",
    "      plt.savefig(\"output/lbp-faces/face-{}.png\".format(i))\n",
    "    # save the model \n",
    "  \n",
    "  if save_model:\n",
    "    # save the model \n",
    "    recognizer.save(\"face-recognizer-model.yml\")\n",
    "\n",
    "  return f1_scores"
   ]
  },
  {
   "cell_type": "code",
   "execution_count": 39,
   "id": "7905b7a9",
   "metadata": {},
   "outputs": [
    {
     "name": "stdout",
     "output_type": "stream",
     "text": [
      "load_face_dataset\n",
      "bad detect is \n",
      "[]\n",
      "[42]\n",
      "[ 0  0  0 ... 46 46 46]\n",
      "dict_values([20, 31, 30, 22, 21, 29, 20, 26, 26, 22, 23, 21, 21, 22, 30, 21, 20, 22, 22, 27, 30, 21, 21, 20, 21, 21, 24, 31, 23, 20, 24, 30, 24, 21, 22, 23, 29, 30, 24, 20, 20, 21, 29, 20, 20, 27, 20])\n",
      "[INFO] training face recognizer...\n",
      "[INFO] training took 13.9359 seconds\n",
      "[INFO] gathering predictions...\n",
      "[INFO] inference took 1800.6743 seconds\n",
      "                              precision    recall  f1-score   support\n",
      "\n",
      "      AISHWARYA_RAI_BACHCHAN       0.12      0.17      0.14         6\n",
      "                       ALISA       0.60      0.67      0.63         9\n",
      "                     ANUSORN       1.00      0.78      0.88         9\n",
      "                      AYUWAT       0.78      1.00      0.88         7\n",
      "      CHAITHAT_KULCHOKVANICH       0.75      1.00      0.86         6\n",
      "                       CHOTE       0.80      0.89      0.84         9\n",
      "           CRISTIANO_RONALDO       1.00      0.33      0.50         6\n",
      "               DAVIKA_HOORNE       0.62      1.00      0.76         8\n",
      "                     DENPONG       0.88      0.88      0.88         8\n",
      "                   DUANGTHIP       0.57      0.57      0.57         7\n",
      "               ELVIS_PRESLEY       0.56      0.71      0.62         7\n",
      "EMMA_CHARLOTTE_DUERRE_WATSON       0.00      0.00      0.00         6\n",
      "     FRANK_WALTER_STEINMEIER       1.00      0.83      0.91         6\n",
      "               FUMIO_KISHIDA       0.80      0.57      0.67         7\n",
      "                         GAN       0.89      0.89      0.89         9\n",
      "                    GREANTEP       1.00      0.67      0.80         6\n",
      "                     HUN_SEN       0.86      1.00      0.92         6\n",
      "                    JUTHARAT       0.56      0.71      0.62         7\n",
      "                    KANNIKAR       0.86      0.86      0.86         7\n",
      "                  KORNCHAWAN       0.67      0.50      0.57         8\n",
      "                  KRITSAKORN       0.89      0.89      0.89         9\n",
      "                     MICHAEL       0.86      1.00      0.92         6\n",
      "                    NAMCHOKE       1.00      0.50      0.67         6\n",
      "                       NIGEL       1.00      1.00      1.00         6\n",
      "                    NUTTINEE       0.50      0.67      0.57         6\n",
      "               OPRAH_WINFREY       1.00      0.67      0.80         6\n",
      "       PAEONGTARN_SHINAWATRA       0.83      0.71      0.77         7\n",
      "                PANINTORSANG       0.83      1.00      0.91        10\n",
      "                   PANTHAPAT       0.75      0.43      0.55         7\n",
      "                   PHRONPHUN       0.62      0.83      0.71         6\n",
      "                      PRAPAI       1.00      0.71      0.83         7\n",
      "                 RAPEERUMPAI       0.75      1.00      0.86         9\n",
      "                    SITTIPOL       0.83      0.71      0.77         7\n",
      "            SRETTHA_THAVISIN       1.00      0.83      0.91         6\n",
      "                     SUPANAT       0.33      0.14      0.20         7\n",
      "                 SUPAPRESERT       0.67      0.86      0.75         7\n",
      "                    TACHANAN       0.56      1.00      0.72         9\n",
      "     TAKORN_RATTANAKAMOLPORN       0.67      0.89      0.76         9\n",
      "                     TANAWAT       0.86      0.86      0.86         7\n",
      "         THONGLOUN_SISOULITH       1.00      0.50      0.67         6\n",
      "                     TOOMTAM       0.80      0.67      0.73         6\n",
      "                      TO_LAM       1.00      1.00      1.00         6\n",
      "                    TRISUKON       0.75      0.67      0.71         9\n",
      "                   WANTHAWIN       0.60      0.50      0.55         6\n",
      "                      WETAKA       0.62      0.83      0.71         6\n",
      "                    WORAKARN       0.57      0.50      0.53         8\n",
      "                  XI_JINPING       1.00      1.00      1.00         6\n",
      "\n",
      "                    accuracy                           0.74       334\n",
      "                   macro avg       0.76      0.73      0.73       334\n",
      "                weighted avg       0.76      0.74      0.73       334\n",
      "\n",
      "[ 7 14  7 30 39 41  0 44  2 15 29  9 40 21 37  8 19 13 10 42 24  4 42 29\n",
      " 23 30 27 27 16 26 15 27 39 12 25 19 45 37 19  8 15 28 20 14 36  2 35 13\n",
      " 32 37 36 29 38 34 23 31 19  8 19  5 13 35 38 20 23 26 30  1 44 18 40 41\n",
      "  3 12  2 37 34 37 30  3 28 23 33 26 46 45 34 43 12  6 19  4 25 35 31 46\n",
      " 31 41 14 17 42 40 35 31  1 40 35 10 33 36 21 27 42  3 17 25 43 38  9 31\n",
      " 23 24 31 27  0  1 24 38  9 14 13  1 34 32 35 42  7 43  8 22  7 11 27  9\n",
      " 14 11  2 19 10  2 20 18 27 42 13  8 10 22  1 34 43  9  8 12 46 38  6  7\n",
      " 19  3 20 32  4  5 12  9 10 15  6 18 41 38 45 21 45 27  7  4 36 11  0 14\n",
      " 43 21 32 17 11 44 32 17 29 37  6  5 44 17 29 39  5 24 20 25 36 26  5 26\n",
      " 32 44 30 17  5 30 25 33  1 28 25 22  9 46 38 27 45 16 42  3  3 44 46 28\n",
      " 41 10 15 20 26 14 18 45 39 21  7  5 16 33  6 22 28 24 14 16  8  0 23 36\n",
      " 18 36 37 45 10 37 16 27  1 22 36 31 22 42  3 20 39 18 11 32 40 15  5  0\n",
      "  1 11 33 13  1 39 31  2  5  2 33 46 37 17 34 26 45 41 36  8 31 16 35 14\n",
      " 13 24  6 20  2 30  0 40  2 21 29 42 28 12  4 34 28 18  7 43  4 20]\n",
      "[7, 14, 7, 30, 39, 41, 42, 44, 2, 36, 44, 9, 40, 21, 17, 45, 19, 13, 10, 36, 10, 4, 42, 29, 23, 30, 27, 27, 16, 37, 15, 27, 9, 12, 25, 36, 28, 37, 17, 8, 36, 1, 20, 14, 36, 2, 35, 13, 32, 37, 36, 29, 38, 9, 23, 31, 36, 8, 44, 5, 4, 35, 17, 20, 23, 31, 30, 1, 44, 0, 14, 41, 3, 35, 0, 37, 34, 37, 27, 3, 28, 23, 33, 26, 46, 45, 35, 43, 12, 10, 19, 4, 25, 35, 31, 46, 31, 41, 14, 8, 42, 40, 38, 31, 1, 40, 35, 17, 3, 36, 21, 27, 42, 3, 24, 7, 43, 38, 7, 31, 23, 44, 31, 27, 7, 7, 24, 38, 9, 29, 16, 1, 43, 32, 35, 42, 7, 1, 8, 31, 7, 20, 27, 3, 14, 9, 2, 19, 10, 2, 20, 18, 27, 0, 13, 8, 10, 22, 1, 37, 32, 9, 8, 12, 46, 38, 6, 7, 19, 3, 20, 40, 4, 5, 12, 9, 10, 15, 11, 18, 41, 38, 45, 21, 43, 27, 7, 4, 36, 10, 29, 14, 43, 21, 31, 17, 19, 45, 32, 17, 29, 37, 6, 5, 44, 17, 29, 39, 5, 24, 20, 26, 36, 26, 5, 26, 32, 44, 36, 17, 24, 30, 25, 33, 19, 24, 25, 22, 0, 46, 38, 27, 27, 16, 42, 3, 3, 44, 46, 10, 41, 5, 15, 20, 26, 14, 18, 45, 34, 21, 7, 5, 16, 33, 29, 34, 24, 24, 14, 16, 8, 42, 23, 36, 18, 36, 37, 45, 10, 37, 16, 27, 1, 35, 36, 31, 22, 42, 3, 37, 4, 18, 1, 32, 45, 15, 5, 0, 0, 7, 33, 13, 1, 39, 31, 2, 5, 0, 33, 46, 37, 17, 0, 26, 36, 41, 36, 8, 31, 16, 35, 14, 21, 24, 13, 20, 2, 30, 37, 40, 2, 21, 29, 18, 28, 12, 4, 5, 28, 18, 7, 1, 4, 20]\n"
     ]
    },
    {
     "ename": "NameError",
     "evalue": "name 'labels' is not defined",
     "output_type": "error",
     "traceback": [
      "\u001b[1;31m---------------------------------------------------------------------------\u001b[0m",
      "\u001b[1;31mNameError\u001b[0m                                 Traceback (most recent call last)",
      "Cell \u001b[1;32mIn[39], line 1\u001b[0m\n\u001b[1;32m----> 1\u001b[0m f1_scores \u001b[38;5;241m=\u001b[39m \u001b[43mcross_validation\u001b[49m\u001b[43m(\u001b[49m\u001b[38;5;124;43m\"\u001b[39;49m\u001b[38;5;124;43mdata_db\u001b[39;49m\u001b[38;5;124;43m\"\u001b[39;49m\u001b[43m \u001b[49m\u001b[43m,\u001b[49m\u001b[43m \u001b[49m\u001b[43mcv\u001b[49m\u001b[38;5;241;43m=\u001b[39;49m\u001b[38;5;241;43m5\u001b[39;49m\u001b[43m \u001b[49m\u001b[43m,\u001b[49m\u001b[43m \u001b[49m\u001b[43msave_model\u001b[49m\u001b[38;5;241;43m=\u001b[39;49m\u001b[38;5;28;43;01mTrue\u001b[39;49;00m\u001b[43m)\u001b[49m\n",
      "Cell \u001b[1;32mIn[38], line 67\u001b[0m, in \u001b[0;36mcross_validation\u001b[1;34m(input_data, cv, test_size, output, save_model)\u001b[0m\n\u001b[0;32m     63\u001b[0m   \u001b[38;5;66;03m# collect and append the calculated f1-score based on this\u001b[39;00m\n\u001b[0;32m     64\u001b[0m   \u001b[38;5;66;03m# random state\u001b[39;00m\n\u001b[0;32m     65\u001b[0m   f1_scores\u001b[38;5;241m.\u001b[39mappend(f1_score(y_test,predictions,average\u001b[38;5;241m=\u001b[39m\u001b[38;5;124m\"\u001b[39m\u001b[38;5;124mmacro\u001b[39m\u001b[38;5;124m\"\u001b[39m))\n\u001b[1;32m---> 67\u001b[0m   \u001b[43mcus_confusion_matrix\u001b[49m\u001b[43m(\u001b[49m\u001b[43mfaces\u001b[49m\u001b[43m,\u001b[49m\u001b[43m \u001b[49m\u001b[43my_test\u001b[49m\u001b[43m,\u001b[49m\u001b[43m \u001b[49m\u001b[43mpredictions\u001b[49m\u001b[43m)\u001b[49m\n\u001b[0;32m     69\u001b[0m \u001b[38;5;66;03m# convert the f1-scores list into Numpy array\u001b[39;00m\n\u001b[0;32m     70\u001b[0m f1_scores \u001b[38;5;241m=\u001b[39m np\u001b[38;5;241m.\u001b[39marray(f1_scores , dtype\u001b[38;5;241m=\u001b[39m\u001b[38;5;124m\"\u001b[39m\u001b[38;5;124mfloat32\u001b[39m\u001b[38;5;124m\"\u001b[39m)\n",
      "Cell \u001b[1;32mIn[36], line 23\u001b[0m, in \u001b[0;36mcus_confusion_matrix\u001b[1;34m(faces, y_test, y_predicted)\u001b[0m\n\u001b[0;32m     17\u001b[0m top_10_classes \u001b[38;5;241m=\u001b[39m [class_label \u001b[38;5;28;01mfor\u001b[39;00m class_label, _ \u001b[38;5;129;01min\u001b[39;00m class_counts\u001b[38;5;241m.\u001b[39mmost_common(\u001b[38;5;241m10\u001b[39m)]\n\u001b[0;32m     19\u001b[0m \u001b[38;5;66;03m# For lowest counts, sort and select the bottom 10 classes\u001b[39;00m\n\u001b[0;32m     20\u001b[0m \u001b[38;5;66;03m#top_10_classes = [class_label for class_label, _ in class_counts.most_common()[-10:]]\u001b[39;00m\n\u001b[0;32m     21\u001b[0m \n\u001b[0;32m     22\u001b[0m \u001b[38;5;66;03m# Step 3: Map the selected classes to their corresponding labels\u001b[39;00m\n\u001b[1;32m---> 23\u001b[0m top_10_labels \u001b[38;5;241m=\u001b[39m [labels[i] \u001b[38;5;28;01mfor\u001b[39;00m i \u001b[38;5;129;01min\u001b[39;00m top_10_classes]\n\u001b[0;32m     25\u001b[0m \u001b[38;5;66;03m# Step 4: Filter y_test and y_pred based on the top 10 classes\u001b[39;00m\n\u001b[0;32m     26\u001b[0m y_test_filtered \u001b[38;5;241m=\u001b[39m []\n",
      "Cell \u001b[1;32mIn[36], line 23\u001b[0m, in \u001b[0;36m<listcomp>\u001b[1;34m(.0)\u001b[0m\n\u001b[0;32m     17\u001b[0m top_10_classes \u001b[38;5;241m=\u001b[39m [class_label \u001b[38;5;28;01mfor\u001b[39;00m class_label, _ \u001b[38;5;129;01min\u001b[39;00m class_counts\u001b[38;5;241m.\u001b[39mmost_common(\u001b[38;5;241m10\u001b[39m)]\n\u001b[0;32m     19\u001b[0m \u001b[38;5;66;03m# For lowest counts, sort and select the bottom 10 classes\u001b[39;00m\n\u001b[0;32m     20\u001b[0m \u001b[38;5;66;03m#top_10_classes = [class_label for class_label, _ in class_counts.most_common()[-10:]]\u001b[39;00m\n\u001b[0;32m     21\u001b[0m \n\u001b[0;32m     22\u001b[0m \u001b[38;5;66;03m# Step 3: Map the selected classes to their corresponding labels\u001b[39;00m\n\u001b[1;32m---> 23\u001b[0m top_10_labels \u001b[38;5;241m=\u001b[39m [\u001b[43mlabels\u001b[49m[i] \u001b[38;5;28;01mfor\u001b[39;00m i \u001b[38;5;129;01min\u001b[39;00m top_10_classes]\n\u001b[0;32m     25\u001b[0m \u001b[38;5;66;03m# Step 4: Filter y_test and y_pred based on the top 10 classes\u001b[39;00m\n\u001b[0;32m     26\u001b[0m y_test_filtered \u001b[38;5;241m=\u001b[39m []\n",
      "\u001b[1;31mNameError\u001b[0m: name 'labels' is not defined"
     ]
    }
   ],
   "source": [
    "f1_scores = cross_validation(\"data_db\" , cv=5 , save_model=True)"
   ]
  },
  {
   "cell_type": "code",
   "execution_count": 32,
   "id": "5245f172",
   "metadata": {},
   "outputs": [
    {
     "data": {
      "text/plain": [
       "array([0.64177835, 0.6395506 , 0.7094982 , 0.6707414 , 0.6560268 ],\n",
       "      dtype=float32)"
      ]
     },
     "execution_count": 32,
     "metadata": {},
     "output_type": "execute_result"
    }
   ],
   "source": [
    "f1_scores"
   ]
  },
  {
   "cell_type": "code",
   "execution_count": 33,
   "id": "c95e07b6",
   "metadata": {},
   "outputs": [
    {
     "name": "stdout",
     "output_type": "stream",
     "text": [
      "The mean of f1-scores is :  0.663519\n",
      "The standard deviation of f1-scores is :  0.025571564\n"
     ]
    }
   ],
   "source": [
    "# grab the mean of f1-scores\n",
    "mu = np.mean(f1_scores)\n",
    "# grab the standard deviation of f1-scores\n",
    "sigma = np.std(f1_scores)\n",
    "\n",
    "print(\"The mean of f1-scores is : \" , mu)\n",
    "print(\"The standard deviation of f1-scores is : \" , sigma)"
   ]
  },
  {
   "cell_type": "code",
   "execution_count": 34,
   "id": "4a90a37c",
   "metadata": {},
   "outputs": [
    {
     "data": {
      "image/png": "[encoded data removed]",
      "text/plain": [
       "<Figure size 640x480 with 1 Axes>"
      ]
     },
     "metadata": {},
     "output_type": "display_data"
    }
   ],
   "source": [
    "# calculate and divide the normal dist. range into 100 points\n",
    "x = np.linspace(mu - 3*sigma, mu + 3*sigma, 100)\n",
    "# plot the normal dist. based on the probability distribution function \n",
    "# values \n",
    "plt.plot(x, stats.norm.pdf(x, mu, sigma))\n",
    "# save the plot in the desired directory\n",
    "plt.savefig(\"output/model-performance/f-scores-dist.png\")\n",
    "plt.show()"
   ]
  }
 ],
 "metadata": {
  "kernelspec": {
   "display_name": "Python 3",
   "language": "python",
   "name": "python3"
  },
  "language_info": {
   "codemirror_mode": {
    "name": "ipython",
    "version": 3
   },
   "file_extension": ".py",
   "mimetype": "text/x-python",
   "name": "python",
   "nbconvert_exporter": "python",
   "pygments_lexer": "ipython3",
   "version": "3.9.19"
  }
 },
 "nbformat": 4,
 "nbformat_minor": 5
}
